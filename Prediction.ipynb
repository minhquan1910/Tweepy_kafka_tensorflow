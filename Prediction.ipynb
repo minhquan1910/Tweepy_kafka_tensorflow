{
 "cells": [
  {
   "cell_type": "code",
   "execution_count": 1,
   "metadata": {},
   "outputs": [],
   "source": [
    "import pandas\n",
    "import numpy as np\n",
    "import re \n",
    "from pyvi.ViTokenizer import ViTokenizer\n",
    "import tensorflow as tf\n",
    "import pickle\n",
    "from keras.preprocessing import sequence\n",
    "import requests\n"
   ]
  },
  {
   "cell_type": "code",
   "execution_count": 2,
   "metadata": {},
   "outputs": [],
   "source": [
    "STOPWORDS = 'stop_word.txt'\n",
    "\n",
    "with open(STOPWORDS, \"r\", encoding=\"utf-8\") as ins:\n",
    "    stopwords = []\n",
    "    for line in ins:\n",
    "        dd = line.strip(\"\\n\")\n",
    "        stopwords.append(dd)\n",
    "    stopwords = set(stopwords)\n",
    "#Filter stop words\n",
    "def filter_stop_words(train_sentences, stopwords):\n",
    "    new_sent = [word for word in train_sentences.split() if word not in stopwords]\n",
    "    train_sentences = ' '.join(new_sent)\n",
    "    return train_sentences\n",
    "\n",
    "#Delete Emoji\n",
    "def deEmojify(text):\n",
    "    emoji_pattern = re.compile(\"[\"\n",
    "        u\"\\U0001F600-\\U0001F64F\"  # emoticons\n",
    "        u\"\\U0001F300-\\U0001F5FF\"  # symbols & pictographs\n",
    "        u\"\\U0001F680-\\U0001F6FF\"  # transport & map symbols\n",
    "        u\"\\U0001F1E0-\\U0001F1FF\"  # flags (iOS)\n",
    "                           \"]+\", flags=re.UNICODE)\n",
    "    return emoji_pattern.sub(r'',text)\n",
    "\n",
    "#Preprocess\n",
    "def preprocess(text, tokenized=True, lowercase=True):\n",
    "    text = ViTokenizer.tokenize(text) if tokenized else text\n",
    "    text = filter_stop_words(text, stopwords)\n",
    "    text = deEmojify(text)\n",
    "    text = text.lower() if lowercase else text\n",
    "    return text\n",
    "\n",
    "#-------Extract Features------------\n",
    "def pre_process_features(X, tokenized=True, lowercase=True):\n",
    "    X = [preprocess(str(X), tokenized=tokenized, lowercase=lowercase)]\n",
    "    for idx, ele in enumerate(X):\n",
    "        if not ele:\n",
    "            np.delete(X, idx)\n",
    "    return X"
   ]
  },
  {
   "cell_type": "code",
   "execution_count": 3,
   "metadata": {},
   "outputs": [
    {
     "name": "stdout",
     "output_type": "stream",
     "text": [
      "['mày ngu']\n"
     ]
    }
   ],
   "source": [
    "test = \"mày ngu quá\"\n",
    "preprocess_test = pre_process_features(test,tokenized=True,lowercase=True)\n",
    "print(preprocess_test)"
   ]
  },
  {
   "cell_type": "code",
   "execution_count": 4,
   "metadata": {},
   "outputs": [],
   "source": [
    "def make_features(X, tokenizer, is_one_hot_label=True,sequence_length=100):\n",
    "    X = tokenizer.texts_to_sequences(X)\n",
    "    X = sequence.pad_sequences(X, maxlen=sequence_length)\n",
    "    return X"
   ]
  },
  {
   "cell_type": "code",
   "execution_count": 5,
   "metadata": {
    "scrolled": true
   },
   "outputs": [],
   "source": [
    "model = tf.keras.models.load_model('Text_CNN_model_v13.h5')\n",
    "file = open(\"tokenizer.pickle\",\"rb\")\n",
    "tokenizer = pickle.load(file)\n",
    "\n",
    "process_test = make_features(preprocess_test, tokenizer, is_one_hot_label=False)\n",
    "\n",
    "#predict = model.predict(process_test, batch_size = 0, verbose =0)\n",
    "#print(predict.argmax(axis = -1))"
   ]
  },
  {
   "cell_type": "code",
   "execution_count": 8,
   "metadata": {},
   "outputs": [],
   "source": [
    "import json\n",
    "headers = {\"content-type\": \"application/json\"}\n",
    "data = json.dumps({\"instances\":process_test.tolist()})\n",
    "\n",
    "json_response = requests.post(\"http://localhost:8605/v1/models/twitter_model:predict\",data=data,headers=headers)"
   ]
  },
  {
   "cell_type": "code",
   "execution_count": 12,
   "metadata": {},
   "outputs": [
    {
     "name": "stdout",
     "output_type": "stream",
     "text": [
      "[2]\n"
     ]
    }
   ],
   "source": [
    "predictions = json.loads(json_response.text)['predictions']\n",
    "print(np.argmax(predictions,axis=-1))"
   ]
  }
 ],
 "metadata": {
  "kernelspec": {
   "display_name": "Python 3 (ipykernel)",
   "language": "python",
   "name": "python3"
  },
  "language_info": {
   "codemirror_mode": {
    "name": "ipython",
    "version": 3
   },
   "file_extension": ".py",
   "mimetype": "text/x-python",
   "name": "python",
   "nbconvert_exporter": "python",
   "pygments_lexer": "ipython3",
   "version": "3.9.7"
  }
 },
 "nbformat": 4,
 "nbformat_minor": 4
}
