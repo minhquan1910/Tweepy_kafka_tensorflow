{
 "cells": [
  {
   "cell_type": "code",
   "execution_count": 1,
   "metadata": {
    "scrolled": true
   },
   "outputs": [],
   "source": [
    "from tweepy import OAuthHandler\n",
    "from tweepy import Stream\n",
    "import json\n",
    "from kafka import KafkaProducer\n",
    "import tensorflow as tf "
   ]
  },
  {
   "cell_type": "code",
   "execution_count": 2,
   "metadata": {},
   "outputs": [],
   "source": [
    "ACCESS_TOKEN = \"1471483768716156932-zdvUyRNk5jPOs6YLvfWKjB0c5qUPXH\"\n",
    "ACCESS_SECRET_TOKEN = \"WClXGnIxwqPBwAQZUZzquHFKRL1iem8i3isUP4scwfgqp\"\n",
    "API_KEY = \"kQxvj08nLPvOZfPA1p8dd3M6q\"\n",
    "API_SECRET_KEY = \"UjW67drtcXSb8kG4BDNdt9jrgx5L8JclbV3Q4eS3j5XAdBQrIc\""
   ]
  },
  {
   "cell_type": "code",
   "execution_count": 3,
   "metadata": {},
   "outputs": [],
   "source": [
    "producer = KafkaProducer(bootstrap_servers=['localhost:9092'],value_serializer=lambda v: json.dumps(v).encode('utf-8'))\n",
    "topic = \"streaming\""
   ]
  },
  {
   "cell_type": "code",
   "execution_count": 4,
   "metadata": {},
   "outputs": [],
   "source": [
    "class StdOutListener(Stream):\n",
    "    def __init__(self,API_KEY,API_SECRET_KEY,ACCESS_TOKEN,ACCESS_SECRET_TOKEN,producer,topic_name):\n",
    "        Stream.__init__(self,API_KEY,API_SECRET_KEY,ACCESS_TOKEN,ACCESS_SECRET_TOKEN)\n",
    "        self.producer = producer\n",
    "        self.topic_name = topic_name\n",
    "    def on_data(self,data):\n",
    "        json_data = json.loads(data)\n",
    "        dict_data = {\"id\":json_data[\"id\"],\"text\":json_data[\"text\"]}\n",
    "        self.producer.send(self.topic_name,dict_data)\n",
    "        print(dict_data)\n",
    "    def on_error(self,status):\n",
    "        print(status)"
   ]
  },
  {
   "cell_type": "code",
   "execution_count": null,
   "metadata": {},
   "outputs": [
    {
     "name": "stdout",
     "output_type": "stream",
     "text": [
      "{'id': 1476903924451856387, 'text': 'Xin chào'}\n",
      "{'id': 1476904100788797449, 'text': 'Mày ngu'}\n",
      "{'id': 1476904165926313985, 'text': 'mày ngu'}\n",
      "{'id': 1476904229335797766, 'text': 'mày xấu'}\n",
      "{'id': 1476904597910212610, 'text': 'tệ quá'}\n",
      "{'id': 1476904675043540993, 'text': 'tệ'}\n",
      "{'id': 1476904776239439875, 'text': 'mày ngu mày xấu mày đần'}\n",
      "{'id': 1476905104099852289, 'text': '@MinhQua12576147 Đồ khùng'}\n",
      "{'id': 1476905554228379652, 'text': '@MinhQua12576147 Dm'}\n",
      "{'id': 1476905693886115844, 'text': '@MinhQua12576147 Chào'}\n",
      "{'id': 1476905869430325251, 'text': '@MinhQua12576147 Kiểm tra'}\n",
      "{'id': 1476905953492541440, 'text': '@MinhQua12576147 Đồ khùng điên'}\n",
      "{'id': 1476906026209214465, 'text': '@MinhQua12576147 Kết thúc kiểm tra'}\n"
     ]
    }
   ],
   "source": [
    "twitter_stream = StdOutListener(API_KEY=API_KEY,API_SECRET_KEY=API_SECRET_KEY,ACCESS_TOKEN=ACCESS_TOKEN,\n",
    "                                ACCESS_SECRET_TOKEN=ACCESS_SECRET_TOKEN,\n",
    "                                producer=producer,topic_name=topic)\n",
    "twitter_stream.filter(follow=[\"1471483768716156932\"])"
   ]
  }
 ],
 "metadata": {
  "kernelspec": {
   "display_name": "Python 3 (ipykernel)",
   "language": "python",
   "name": "python3"
  },
  "language_info": {
   "codemirror_mode": {
    "name": "ipython",
    "version": 3
   },
   "file_extension": ".py",
   "mimetype": "text/x-python",
   "name": "python",
   "nbconvert_exporter": "python",
   "pygments_lexer": "ipython3",
   "version": "3.9.7"
  }
 },
 "nbformat": 4,
 "nbformat_minor": 4
}
